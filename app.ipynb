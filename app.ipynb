{
 "cells": [
  {
   "cell_type": "code",
   "execution_count": 1,
   "id": "096342fb-f36a-46b3-a542-39c7839c62a3",
   "metadata": {},
   "outputs": [],
   "source": [
    "#Importing dataset"
   ]
  },
  {
   "cell_type": "code",
   "execution_count": 2,
   "id": "bd07917d",
   "metadata": {},
   "outputs": [
    {
     "name": "stdout",
     "output_type": "stream",
     "text": [
      "<bound method NDFrame.head of                         song_name  song_popularity  song_duration_ms  \\\n",
      "0      Boulevard of Broken Dreams               73            262333   \n",
      "1                      In The End               66            216933   \n",
      "2               Seven Nation Army               76            231733   \n",
      "3                      By The Way               74            216933   \n",
      "4               How You Remind Me               56            223826   \n",
      "...                           ...              ...               ...   \n",
      "18830              Let It Breathe               60            159645   \n",
      "18831                     Answers               60            205666   \n",
      "18832      Sudden Love (Acoustic)               23            182211   \n",
      "18833           Gentle on My Mind               55            352280   \n",
      "18834                    Up to Me               60            193533   \n",
      "\n",
      "       acousticness  danceability  energy  instrumentalness  key  liveness  \\\n",
      "0          0.005520         0.496   0.682          0.000029    8    0.0589   \n",
      "1          0.010300         0.542   0.853          0.000000    3    0.1080   \n",
      "2          0.008170         0.737   0.463          0.447000    0    0.2550   \n",
      "3          0.026400         0.451   0.970          0.003550    0    0.1020   \n",
      "4          0.000954         0.447   0.766          0.000000   10    0.1130   \n",
      "...             ...           ...     ...               ...  ...       ...   \n",
      "18830      0.893000         0.500   0.151          0.000065   11    0.1110   \n",
      "18831      0.765000         0.495   0.161          0.000001   11    0.1050   \n",
      "18832      0.847000         0.719   0.325          0.000000    0    0.1250   \n",
      "18833      0.945000         0.488   0.326          0.015700    3    0.1190   \n",
      "18834      0.911000         0.640   0.381          0.000254    4    0.1040   \n",
      "\n",
      "       loudness  audio_mode  speechiness    tempo  time_signature  \\\n",
      "0        -4.095           1       0.0294  167.060               4   \n",
      "1        -6.407           0       0.0498  105.256               4   \n",
      "2        -7.828           1       0.0792  123.881               4   \n",
      "3        -4.938           1       0.1070  122.444               4   \n",
      "4        -5.065           1       0.0313  172.011               4   \n",
      "...         ...         ...          ...      ...             ...   \n",
      "18830   -16.107           1       0.0348  113.969               4   \n",
      "18831   -14.078           0       0.0301   94.286               4   \n",
      "18832   -12.222           1       0.0355  130.534               4   \n",
      "18833   -12.020           1       0.0328  106.063               4   \n",
      "18834   -11.790           1       0.0302   91.490               4   \n",
      "\n",
      "       audio_valence  \n",
      "0              0.474  \n",
      "1              0.370  \n",
      "2              0.324  \n",
      "3              0.198  \n",
      "4              0.574  \n",
      "...              ...  \n",
      "18830          0.300  \n",
      "18831          0.265  \n",
      "18832          0.286  \n",
      "18833          0.323  \n",
      "18834          0.581  \n",
      "\n",
      "[18835 rows x 15 columns]>\n"
     ]
    }
   ],
   "source": [
    "import pandas as pd\n",
    "\n",
    "df=pd.read_csv('data/song_data.csv')\n",
    "\n",
    "print(df.head)"
   ]
  },
  {
   "cell_type": "code",
   "execution_count": null,
   "id": "2f18d9a5",
   "metadata": {},
   "outputs": [],
   "source": [
    "#"
   ]
  }
 ],
 "metadata": {
  "kernelspec": {
   "display_name": "Python 3 (ipykernel)",
   "language": "python",
   "name": "python3"
  },
  "language_info": {
   "codemirror_mode": {
    "name": "ipython",
    "version": 3
   },
   "file_extension": ".py",
   "mimetype": "text/x-python",
   "name": "python",
   "nbconvert_exporter": "python",
   "pygments_lexer": "ipython3",
   "version": "3.10.18"
  }
 },
 "nbformat": 4,
 "nbformat_minor": 5
}
